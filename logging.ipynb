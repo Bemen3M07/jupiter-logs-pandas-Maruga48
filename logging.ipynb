{
 "cells": [
  {
   "cell_type": "code",
   "execution_count": null,
   "id": "2f17cf38-cbd6-4e0a-96f3-b07ae2dd3bae",
   "metadata": {},
   "outputs": [
    {
     "name": "stdout",
     "output_type": "stream",
     "text": [
      "2024-11-20 18:31:01 - ejemplofichero - INFO - Missatge informatiu cada dos segons\n",
      "2024-11-20 18:31:03 - ejemplofichero - INFO - Missatge informatiu cada dos segons\n",
      "2024-11-20 18:31:05 - ejemplofichero - INFO - Missatge informatiu cada dos segons\n"
     ]
    }
   ],
   "source": [
    "import logging\n",
    "import logging.config\n",
    "import time\n",
    "\n",
    "# Càrrega de la configuració des del fitxer 'logging.conf'\n",
    "logging.config.fileConfig('logging.conf')\n",
    "\n",
    "# Crear loggers\n",
    "logger = logging.getLogger('ejemplofichero')\n",
    "csv_logger = logging.getLogger('csvlogger')\n",
    "\n",
    "# Bucle principal\n",
    "while True:\n",
    "    try:\n",
    "        logger.debug('Missatge de depuració cada dos segons')\n",
    "        logger.info('Missatge informatiu cada dos segons')\n",
    "        csv_logger.info('Registre en format CSV cada dos segons')\n",
    "        time.sleep(2)  # Pausa de 2 segons\n",
    "    except KeyboardInterrupt:\n",
    "        logger.error('El programa s\\'ha interromput manualment')\n",
    "        break"
   ]
  },
  {
   "cell_type": "code",
   "execution_count": null,
   "id": "8d7d341e-4094-4ba5-8b3e-24927c0f181b",
   "metadata": {},
   "outputs": [],
   "source": []
  },
  {
   "cell_type": "code",
   "execution_count": null,
   "id": "68dd84cb-9ccf-49d3-85e0-db6f9f81f8ea",
   "metadata": {},
   "outputs": [],
   "source": []
  },
  {
   "cell_type": "code",
   "execution_count": null,
   "id": "6454c563-1d95-45a3-9c27-d76419c659f5",
   "metadata": {},
   "outputs": [],
   "source": []
  },
  {
   "cell_type": "code",
   "execution_count": null,
   "id": "19c68787-d15e-44b0-8357-6ca33b6837f3",
   "metadata": {},
   "outputs": [],
   "source": []
  }
 ],
 "metadata": {
  "kernelspec": {
   "display_name": "Python 3 (ipykernel)",
   "language": "python",
   "name": "python3"
  },
  "language_info": {
   "codemirror_mode": {
    "name": "ipython",
    "version": 3
   },
   "file_extension": ".py",
   "mimetype": "text/x-python",
   "name": "python",
   "nbconvert_exporter": "python",
   "pygments_lexer": "ipython3",
   "version": "3.12.1"
  }
 },
 "nbformat": 4,
 "nbformat_minor": 5
}
