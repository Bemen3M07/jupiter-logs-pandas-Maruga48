{
 "cells": [
  {
   "cell_type": "code",
   "execution_count": 1,
   "id": "2f17cf38-cbd6-4e0a-96f3-b07ae2dd3bae",
   "metadata": {},
   "outputs": [
    {
     "name": "stdout",
     "output_type": "stream",
     "text": [
      "2024-11-19 19:56:28 - ejemplofichero - DEBUG - debug mensaje cada dos segundos\n",
      "2024-11-19 19:56:28 - ejemplofichero - INFO - debug mensaje cada dos segundos\n",
      "2024-11-19 19:56:30 - ejemplofichero - DEBUG - debug mensaje cada dos segundos\n",
      "2024-11-19 19:56:30 - ejemplofichero - INFO - debug mensaje cada dos segundos\n",
      "2024-11-19 19:56:32 - ejemplofichero - DEBUG - debug mensaje cada dos segundos\n",
      "2024-11-19 19:56:32 - ejemplofichero - INFO - debug mensaje cada dos segundos\n",
      "2024-11-19 19:56:34 - ejemplofichero - DEBUG - debug mensaje cada dos segundos\n",
      "2024-11-19 19:56:34 - ejemplofichero - INFO - debug mensaje cada dos segundos\n",
      "2024-11-19 19:56:36 - ejemplofichero - DEBUG - debug mensaje cada dos segundos\n",
      "2024-11-19 19:56:36 - ejemplofichero - INFO - debug mensaje cada dos segundos\n"
     ]
    },
    {
     "ename": "KeyboardInterrupt",
     "evalue": "",
     "output_type": "error",
     "traceback": [
      "\u001b[0;31m---------------------------------------------------------------------------\u001b[0m",
      "\u001b[0;31mKeyboardInterrupt\u001b[0m                         Traceback (most recent call last)",
      "Cell \u001b[0;32mIn[1], line 13\u001b[0m\n\u001b[1;32m     11\u001b[0m logger\u001b[38;5;241m.\u001b[39mdebug(\u001b[38;5;124m'\u001b[39m\u001b[38;5;124mdebug mensaje cada dos segundos\u001b[39m\u001b[38;5;124m'\u001b[39m)\n\u001b[1;32m     12\u001b[0m logger\u001b[38;5;241m.\u001b[39minfo(\u001b[38;5;124m'\u001b[39m\u001b[38;5;124mdebug mensaje cada dos segundos\u001b[39m\u001b[38;5;124m'\u001b[39m)\n\u001b[0;32m---> 13\u001b[0m \u001b[43mtime\u001b[49m\u001b[38;5;241;43m.\u001b[39;49m\u001b[43msleep\u001b[49m\u001b[43m(\u001b[49m\u001b[38;5;241;43m2\u001b[39;49m\u001b[43m)\u001b[49m  \u001b[38;5;66;03m# Pausa de 2 segundos\u001b[39;00m\n",
      "\u001b[0;31mKeyboardInterrupt\u001b[0m: "
     ]
    }
   ],
   "source": [
    "import logging\n",
    "import logging.config\n",
    "import time\n",
    "\n",
    "logging.config.fileConfig('logging.conf')\n",
    "\n",
    "# crear logger\n",
    "logger = logging.getLogger('ejemplofichero')\n",
    "\n",
    "while True:\n",
    "    logger.debug('debug mensaje cada dos segundos')\n",
    "    logger.info('debug mensaje cada dos segundos')\n",
    "    time.sleep(2)  # Pausa de 2 segundos"
   ]
  },
  {
   "cell_type": "code",
   "execution_count": null,
   "id": "8d7d341e-4094-4ba5-8b3e-24927c0f181b",
   "metadata": {},
   "outputs": [],
   "source": []
  },
  {
   "cell_type": "code",
   "execution_count": null,
   "id": "68dd84cb-9ccf-49d3-85e0-db6f9f81f8ea",
   "metadata": {},
   "outputs": [],
   "source": []
  },
  {
   "cell_type": "code",
   "execution_count": null,
   "id": "6454c563-1d95-45a3-9c27-d76419c659f5",
   "metadata": {},
   "outputs": [],
   "source": []
  },
  {
   "cell_type": "code",
   "execution_count": null,
   "id": "19c68787-d15e-44b0-8357-6ca33b6837f3",
   "metadata": {},
   "outputs": [],
   "source": []
  }
 ],
 "metadata": {
  "kernelspec": {
   "display_name": "Python 3 (ipykernel)",
   "language": "python",
   "name": "python3"
  },
  "language_info": {
   "codemirror_mode": {
    "name": "ipython",
    "version": 3
   },
   "file_extension": ".py",
   "mimetype": "text/x-python",
   "name": "python",
   "nbconvert_exporter": "python",
   "pygments_lexer": "ipython3",
   "version": "3.12.1"
  }
 },
 "nbformat": 4,
 "nbformat_minor": 5
}
