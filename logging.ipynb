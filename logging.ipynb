{
 "cells": [
  {
   "cell_type": "code",
   "execution_count": 1,
   "id": "2f17cf38-cbd6-4e0a-96f3-b07ae2dd3bae",
   "metadata": {},
   "outputs": [
    {
     "ename": "ValueError",
     "evalue": "list.remove(x): x not in list",
     "output_type": "error",
     "traceback": [
      "\u001b[0;31m---------------------------------------------------------------------------\u001b[0m",
      "\u001b[0;31mValueError\u001b[0m                                Traceback (most recent call last)",
      "Cell \u001b[0;32mIn[1], line 6\u001b[0m\n\u001b[1;32m      3\u001b[0m \u001b[38;5;28;01mimport\u001b[39;00m \u001b[38;5;21;01mtime\u001b[39;00m\n\u001b[1;32m      5\u001b[0m \u001b[38;5;66;03m# Càrrega de la configuració des del fitxer 'logging.conf'\u001b[39;00m\n\u001b[0;32m----> 6\u001b[0m \u001b[43mlogging\u001b[49m\u001b[38;5;241;43m.\u001b[39;49m\u001b[43mconfig\u001b[49m\u001b[38;5;241;43m.\u001b[39;49m\u001b[43mfileConfig\u001b[49m\u001b[43m(\u001b[49m\u001b[38;5;124;43m'\u001b[39;49m\u001b[38;5;124;43mlogging.conf\u001b[39;49m\u001b[38;5;124;43m'\u001b[39;49m\u001b[43m)\u001b[49m\n\u001b[1;32m      8\u001b[0m \u001b[38;5;66;03m# Crear loggers\u001b[39;00m\n\u001b[1;32m      9\u001b[0m logger \u001b[38;5;241m=\u001b[39m logging\u001b[38;5;241m.\u001b[39mgetLogger(\u001b[38;5;124m'\u001b[39m\u001b[38;5;124mejemplofichero\u001b[39m\u001b[38;5;124m'\u001b[39m)\n",
      "File \u001b[0;32m/usr/local/python/3.12.1/lib/python3.12/logging/config.py:92\u001b[0m, in \u001b[0;36mfileConfig\u001b[0;34m(fname, defaults, disable_existing_loggers, encoding)\u001b[0m\n\u001b[1;32m     90\u001b[0m     \u001b[38;5;66;03m# Handlers add themselves to logging._handlers\u001b[39;00m\n\u001b[1;32m     91\u001b[0m     handlers \u001b[38;5;241m=\u001b[39m _install_handlers(cp, formatters)\n\u001b[0;32m---> 92\u001b[0m     \u001b[43m_install_loggers\u001b[49m\u001b[43m(\u001b[49m\u001b[43mcp\u001b[49m\u001b[43m,\u001b[49m\u001b[43m \u001b[49m\u001b[43mhandlers\u001b[49m\u001b[43m,\u001b[49m\u001b[43m \u001b[49m\u001b[43mdisable_existing_loggers\u001b[49m\u001b[43m)\u001b[49m\n\u001b[1;32m     93\u001b[0m \u001b[38;5;28;01mfinally\u001b[39;00m:\n\u001b[1;32m     94\u001b[0m     logging\u001b[38;5;241m.\u001b[39m_releaseLock()\n",
      "File \u001b[0;32m/usr/local/python/3.12.1/lib/python3.12/logging/config.py:210\u001b[0m, in \u001b[0;36m_install_loggers\u001b[0;34m(cp, handlers, disable_existing)\u001b[0m\n\u001b[1;32m    208\u001b[0m llist \u001b[38;5;241m=\u001b[39m llist\u001b[38;5;241m.\u001b[39msplit(\u001b[38;5;124m\"\u001b[39m\u001b[38;5;124m,\u001b[39m\u001b[38;5;124m\"\u001b[39m)\n\u001b[1;32m    209\u001b[0m llist \u001b[38;5;241m=\u001b[39m \u001b[38;5;28mlist\u001b[39m(_strip_spaces(llist))\n\u001b[0;32m--> 210\u001b[0m \u001b[43mllist\u001b[49m\u001b[38;5;241;43m.\u001b[39;49m\u001b[43mremove\u001b[49m\u001b[43m(\u001b[49m\u001b[38;5;124;43m\"\u001b[39;49m\u001b[38;5;124;43mroot\u001b[39;49m\u001b[38;5;124;43m\"\u001b[39;49m\u001b[43m)\u001b[49m\n\u001b[1;32m    211\u001b[0m section \u001b[38;5;241m=\u001b[39m cp[\u001b[38;5;124m\"\u001b[39m\u001b[38;5;124mlogger_root\u001b[39m\u001b[38;5;124m\"\u001b[39m]\n\u001b[1;32m    212\u001b[0m root \u001b[38;5;241m=\u001b[39m logging\u001b[38;5;241m.\u001b[39mroot\n",
      "\u001b[0;31mValueError\u001b[0m: list.remove(x): x not in list"
     ]
    }
   ],
   "source": [
    "import logging\n",
    "import logging.config\n",
    "import time\n",
    "\n",
    "# Càrrega de la configuració des del fitxer 'logging.conf'\n",
    "logging.config.fileConfig('logging.conf')\n",
    "\n",
    "# Crear loggers\n",
    "logger = logging.getLogger('ejemplofichero')\n",
    "csv_logger = logging.getLogger('csvlogger')\n",
    "\n",
    "# Bucle principal\n",
    "while True:\n",
    "    try:\n",
    "        logger.debug('Missatge de depuració cada dos segons')\n",
    "        logger.info('Missatge informatiu cada dos segons')\n",
    "        csv_logger.info('Registre en format CSV cada dos segons')\n",
    "        time.sleep(2)  # Pausa de 2 segons\n",
    "    except KeyboardInterrupt:\n",
    "        logger.error('El programa s\\'ha interromput manualment')\n",
    "        break"
   ]
  },
  {
   "cell_type": "code",
   "execution_count": null,
   "id": "8d7d341e-4094-4ba5-8b3e-24927c0f181b",
   "metadata": {},
   "outputs": [],
   "source": []
  },
  {
   "cell_type": "code",
   "execution_count": null,
   "id": "68dd84cb-9ccf-49d3-85e0-db6f9f81f8ea",
   "metadata": {},
   "outputs": [],
   "source": []
  },
  {
   "cell_type": "code",
   "execution_count": null,
   "id": "6454c563-1d95-45a3-9c27-d76419c659f5",
   "metadata": {},
   "outputs": [],
   "source": []
  },
  {
   "cell_type": "code",
   "execution_count": null,
   "id": "19c68787-d15e-44b0-8357-6ca33b6837f3",
   "metadata": {},
   "outputs": [],
   "source": []
  }
 ],
 "metadata": {
  "kernelspec": {
   "display_name": "Python 3 (ipykernel)",
   "language": "python",
   "name": "python3"
  },
  "language_info": {
   "codemirror_mode": {
    "name": "ipython",
    "version": 3
   },
   "file_extension": ".py",
   "mimetype": "text/x-python",
   "name": "python",
   "nbconvert_exporter": "python",
   "pygments_lexer": "ipython3",
   "version": "3.12.1"
  }
 },
 "nbformat": 4,
 "nbformat_minor": 5
}
