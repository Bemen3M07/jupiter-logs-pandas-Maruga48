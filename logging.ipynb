{
 "cells": [
  {
   "cell_type": "code",
   "execution_count": 2,
   "id": "2f17cf38-cbd6-4e0a-96f3-b07ae2dd3bae",
   "metadata": {},
   "outputs": [
    {
     "name": "stdout",
     "output_type": "stream",
     "text": [
      "2024-11-21 18:04:11,022 - ejemplofichero - INFO - Missatge informatiu cada dos segons\n",
      "2024-11-21 18:04:11,022 - ejemplofichero - INFO - Missatge informatiu cada dos segons\n",
      "2024-11-21 18:04:11,024 - csvlogger - INFO - Registre en format CSV cada dos segons\n",
      "2024-11-21 18:04:13,026 - ejemplofichero - INFO - Missatge informatiu cada dos segons\n",
      "2024-11-21 18:04:13,026 - ejemplofichero - INFO - Missatge informatiu cada dos segons\n",
      "2024-11-21 18:04:13,027 - csvlogger - INFO - Registre en format CSV cada dos segons\n",
      "2024-11-21 18:04:15,028 - ejemplofichero - INFO - Missatge informatiu cada dos segons\n",
      "2024-11-21 18:04:15,028 - ejemplofichero - INFO - Missatge informatiu cada dos segons\n",
      "2024-11-21 18:04:15,030 - csvlogger - INFO - Registre en format CSV cada dos segons\n",
      "2024-11-21 18:04:17,031 - ejemplofichero - INFO - Missatge informatiu cada dos segons\n",
      "2024-11-21 18:04:17,031 - ejemplofichero - INFO - Missatge informatiu cada dos segons\n",
      "2024-11-21 18:04:17,034 - csvlogger - INFO - Registre en format CSV cada dos segons\n",
      "2024-11-21 18:04:19,035 - ejemplofichero - INFO - Missatge informatiu cada dos segons\n",
      "2024-11-21 18:04:19,035 - ejemplofichero - INFO - Missatge informatiu cada dos segons\n",
      "2024-11-21 18:04:19,036 - csvlogger - INFO - Registre en format CSV cada dos segons\n",
      "2024-11-21 18:04:21,037 - ejemplofichero - INFO - Missatge informatiu cada dos segons\n",
      "2024-11-21 18:04:21,037 - ejemplofichero - INFO - Missatge informatiu cada dos segons\n",
      "2024-11-21 18:04:21,038 - csvlogger - INFO - Registre en format CSV cada dos segons\n",
      "2024-11-21 18:04:23,039 - ejemplofichero - INFO - Missatge informatiu cada dos segons\n",
      "2024-11-21 18:04:23,039 - ejemplofichero - INFO - Missatge informatiu cada dos segons\n",
      "2024-11-21 18:04:23,041 - csvlogger - INFO - Registre en format CSV cada dos segons\n",
      "2024-11-21 18:04:25,042 - ejemplofichero - INFO - Missatge informatiu cada dos segons\n",
      "2024-11-21 18:04:25,042 - ejemplofichero - INFO - Missatge informatiu cada dos segons\n",
      "2024-11-21 18:04:25,043 - csvlogger - INFO - Registre en format CSV cada dos segons\n",
      "2024-11-21 18:04:25,736 - ejemplofichero - ERROR - El programa s'ha interromput manualment\n",
      "2024-11-21 18:04:25,736 - ejemplofichero - ERROR - El programa s'ha interromput manualment\n"
     ]
    }
   ],
   "source": [
    "import logging\n",
    "import logging.config\n",
    "import time\n",
    "\n",
    "# Càrrega de la configuració des del fitxer 'logging.conf'\n",
    "logging.config.fileConfig('logging.conf')\n",
    "\n",
    "# Crear loggers\n",
    "logger = logging.getLogger('ejemplofichero')\n",
    "csv_logger = logging.getLogger('csvlogger')\n",
    "\n",
    "# Bucle principal\n",
    "while True:\n",
    "    try:\n",
    "        logger.debug('Missatge de depuració cada dos segons')\n",
    "        logger.info('Missatge informatiu cada dos segons')\n",
    "        csv_logger.info('Registre en format CSV cada dos segons')\n",
    "        time.sleep(2)  # Pausa de 2 segons\n",
    "    except KeyboardInterrupt:\n",
    "        logger.error('El programa s\\'ha interromput manualment')\n",
    "        break"
   ]
  },
  {
   "cell_type": "code",
   "execution_count": null,
   "id": "68dd84cb-9ccf-49d3-85e0-db6f9f81f8ea",
   "metadata": {},
   "outputs": [],
   "source": [
    "Exercici 3\n",
    "\n",
    "Mitjançant les eines proposades a continuació, voldríem elaborar una petita aplicació\n",
    "que permetés a un treballador de forma senzilla introduir mitjançant un fitxer json, txt\n",
    "csv o similar introduir unes dades que escollim i li elaborem una sèrie de gràfiques.\n",
    "Abans d’això, caldrà informar-se sobre les següents eines, alguna de les quals potser\n",
    "ja coneixeu.\n",
    "    \n",
    "\n",
    "Pandas\n",
    "    \n",
    "Funcionalitat:\n",
    "És una biblioteca de Python per a l’anàlisi i manipulació de dades. Ofereix estructures com:\n",
    "DataFrame: per gestionar dades tabulars (similar a una taula Excel).\n",
    "Operacions potents per filtrar, ordenar, agrupar i calcular estadístiques sobre grans volums de dades.\n",
    "Funcions per llegir i escriure en formats com JSON, CSV, Excel, etc."
   ]
  },
  {
   "cell_type": "markdown",
   "id": "95a0560c-bbb1-4c4c-9b95-d332c7dd648f",
   "metadata": {},
   "source": [
    "import pandas as pd\n",
    "data = pd.read_csv('logs.csv')\n",
    "print(data.head())  # Mostra les primeres línies del fitxer"
   ]
  },
  {
   "cell_type": "code",
   "execution_count": null,
   "id": "6454c563-1d95-45a3-9c27-d76419c659f5",
   "metadata": {},
   "outputs": [],
   "source": [
    "2. Jupyter Notebook\n",
    "Funcionalitat:\n",
    "És un entorn interactiu per desenvolupar codi en Python, especialment útil per:\n",
    "\n",
    "Escriure i provar codi de manera incremental.\n",
    "Documentar el procés amb cel·les explicatives (Markdown) i gràfics integrats.\n",
    "Generar visualitzacions i informes en temps real."
   ]
  },
  {
   "cell_type": "code",
   "execution_count": 4,
   "id": "19c68787-d15e-44b0-8357-6ca33b6837f3",
   "metadata": {},
   "outputs": [
    {
     "data": {
      "image/png": "[encoded data removed]",
      "text/plain": [
       "<Figure size 640x480 with 1 Axes>"
      ]
     },
     "metadata": {},
     "output_type": "display_data"
    }
   ],
   "source": [
    "import matplotlib.pyplot as plt\n",
    "plt.plot([1, 2, 3, 4], [10, 20, 25, 30])\n",
    "plt.title(\"Gràfica de prova\")\n",
    "plt.show()"
   ]
  },
  {
   "cell_type": "code",
   "execution_count": null,
   "id": "d4fb51c7-c533-4f22-9448-dff45b210235",
   "metadata": {},
   "outputs": [],
   "source": [
    "3. ReportLab\n",
    "Funcionalitat:\n",
    "És una llibreria per generar documents PDF de manera programada. És ideal per crear informes o resums de dades amb gràfiques, taules i text formatat.\n",
    "\n",
    "Prova realitzada (exemple):"
   ]
  },
  {
   "cell_type": "code",
   "execution_count": null,
   "id": "30a0042d-7089-4e25-acbd-f59a76867b5d",
   "metadata": {},
   "outputs": [],
   "source": [
    "from reportlab.pdfgen import canvas\n",
    "c = canvas.Canvas(\"informe.pdf\")\n",
    "c.drawString(100, 750, \"Informe generat automàticament\")\n",
    "c.save()\n"
   ]
  },
  {
   "cell_type": "code",
   "execution_count": null,
   "id": "7239427f-fdad-4081-9307-93a745c42cec",
   "metadata": {},
   "outputs": [],
   "source": [
    "Proposta final\n",
    "Eines seleccionades:\n",
    "Per a l'aplicació demanada, utilitzarem una combinació de Pandas, Jupyter Notebook i ReportLab, per les següents raons:\n",
    "\n",
    "Pandas: permet una manipulació eficient de dades provinents de fitxers (CSV, JSON o altres).\n",
    "Jupyter Notebook: ideal per desenvolupar prototips i visualitzar gràfiques de manera interactiva.\n",
    "ReportLab: es farà servir per generar un informe professional en format PDF amb el resum i gràfiques generades."
   ]
  },
  {
   "cell_type": "code",
   "execution_count": null,
   "id": "14067044-012c-456d-ae64-2d837bb56067",
   "metadata": {},
   "outputs": [],
   "source": [
    "Exemple d'aplicació\n",
    "Càrrega i processament de dades amb Pandas:"
   ]
  },
  {
   "cell_type": "code",
   "execution_count": null,
   "id": "869f6d6d-5124-4eeb-8591-b407a33d9dd9",
   "metadata": {},
   "outputs": [],
   "source": [
    "import pandas as pd\n",
    "dades = pd.read_csv(\"logs.csv\")\n",
    "resum = dades.groupby(\"Departament\").mean()\n",
    "print(resum)"
   ]
  },
  {
   "cell_type": "code",
   "execution_count": null,
   "id": "29a43081-350d-4c25-8a5f-decfb7213d63",
   "metadata": {},
   "outputs": [],
   "source": [
    "Visualització de dades amb Jupyter Notebook:"
   ]
  },
  {
   "cell_type": "code",
   "execution_count": null,
   "id": "5c2e4cb7-4f2a-4afd-834f-867e43612b47",
   "metadata": {},
   "outputs": [],
   "source": []
  }
 ],
 "metadata": {
  "kernelspec": {
   "display_name": "Python 3 (ipykernel)",
   "language": "python",
   "name": "python3"
  },
  "language_info": {
   "codemirror_mode": {
    "name": "ipython",
    "version": 3
   },
   "file_extension": ".py",
   "mimetype": "text/x-python",
   "name": "python",
   "nbconvert_exporter": "python",
   "pygments_lexer": "ipython3",
   "version": "3.12.1"
  }
 },
 "nbformat": 4,
 "nbformat_minor": 5
}
