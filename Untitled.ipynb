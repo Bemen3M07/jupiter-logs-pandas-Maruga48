{
 "cells": [
  {
   "cell_type": "code",
   "execution_count": null,
   "id": "382f32c8-f521-4f0d-8874-36e9006f2ef7",
   "metadata": {},
   "outputs": [],
   "source": [
    "Exercici 1\n",
    "\n",
    "a. Jupyter:\n",
    "Entorn interactiu que permet crear i compartir documents amb codi, text i visualitzacions, molt usat per ciència de dades i programació.\n",
    "\n",
    "b. Anaconda:\n",
    "Distribució de Python per gestionar paquets i entorns, amb eines com Jupyter per a la ciència de dades i desenvolupament.\n",
    "\n",
    "c. Paquet logging:\n",
    "Llibreria de Python per registrar missatges i esdevenimen"
   ]
  },
  {
   "cell_type": "code",
   "execution_count": null,
   "id": "a21ed21a-757a-446a-be0c-f98617070c5a",
   "metadata": {},
   "outputs": [],
   "source": [
    "Exercici 2\n",
    "\n",
    "Implementar logs és essencial per supervisar el comportament del programa i facilitar el diagnòstic de problemes. Alguns exemples són:\n",
    "\n",
    "Depuració d'errors: Els logs mostren què ha fallat, com un error en una petició d'una aplicació web.\n",
    "Seguiment d'activitat: Permeten saber com i quan els usuaris utilitzen una funcionalitat, com les cerques fetes en una app.\n",
    "Seguretat: Ajuden a detectar comportaments sospitosos, com intents d'inici de sessió fallits repetits.\n",
    "\n",
    "\n",
    "\n",
    "\n",
    "\n"
   ]
  },
  {
   "cell_type": "code",
   "execution_count": null,
   "id": "82b7b55c-b410-41a2-85dc-4c9213437464",
   "metadata": {},
   "outputs": [],
   "source": [
    "Logging 1:\n",
    "\n",
    "logging.basicConfig(format='%(asctime)s - %(message)s', level=logging.INFO)\n",
    "Aquesta línia configura el format del registre (log). El format indica que cada missatge de log mostrarà l'hora (asctime) i el missatge (message). També s'estableix que només es registraran missatges d'informació (INFO) i nivells superiors.\n",
    "\n",
    "logging.info('Admin ha accedido')\n",
    "Aquesta línia genera un missatge de registre amb nivell \"INFO\" que diu \"Admin ha accedido\". S'imprimirà només si el nivell configurat ho permet (en aquest cas, sí, perquè el nivell mínim és INFO)."
   ]
  },
  {
   "cell_type": "code",
   "execution_count": null,
   "id": "434ecad5-1f3e-4637-85f0-e2ed4a798e87",
   "metadata": {},
   "outputs": [],
   "source": [
    "Logging 2:\n",
    "\n",
    "f_handler = logging.FileHandler('file.log')\n",
    "Aquesta línia crea un \"handler\" o gestor que escriurà els missatges de log en un fitxer anomenat file.log. Això permet enviar els missatges al fitxer en lloc de mostrar-los per pantalla."
   ]
  },
  {
   "cell_type": "code",
   "execution_count": null,
   "id": "e825139b-062d-42a5-ab0b-b749e6030958",
   "metadata": {},
   "outputs": [],
   "source": [
    "Logging 3:\n",
    "\n",
    "import logging\n",
    "Aquesta línia importa el mòdul logging, necessari per utilitzar les funcions de registre en el programa.\n",
    "\n",
    "logging.basicConfig(format='%(process)d-%(levelname)s-%(message)s')\n",
    "Configura el format del log per incloure el número del procés (process), el nivell del missatge (levelname) i el contingut del missatge (message).\n",
    "\n",
    "logging.warning('This is a Warning')\n",
    "Genera un missatge de registre amb nivell \"WARNING\" que diu \"This is a Warning\". Aquest missatge s'imprimirà o es guardarà segons la configuració del logging."
   ]
  }
 ],
 "metadata": {
  "kernelspec": {
   "display_name": "Python 3 (ipykernel)",
   "language": "python",
   "name": "python3"
  },
  "language_info": {
   "codemirror_mode": {
    "name": "ipython",
    "version": 3
   },
   "file_extension": ".py",
   "mimetype": "text/x-python",
   "name": "python",
   "nbconvert_exporter": "python",
   "pygments_lexer": "ipython3",
   "version": "3.12.1"
  }
 },
 "nbformat": 4,
 "nbformat_minor": 5
}
