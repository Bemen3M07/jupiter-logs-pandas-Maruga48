{
 "cells": [
  {
   "cell_type": "code",
   "execution_count": 2,
   "id": "99f808b7-833c-4704-9eea-d235cc69f37a",
   "metadata": {},
   "outputs": [
    {
     "name": "stderr",
     "output_type": "stream",
     "text": [
      "WARNING:root:Watch Out!\n"
     ]
    }
   ],
   "source": [
    "import logging\n",
    "logging.warning('Watch Out!')\n",
    "logging.info('I told you so!')"
   ]
  },
  {
   "cell_type": "code",
   "execution_count": 3,
   "id": "aad029ef-078f-4a00-8aef-2334418ef3c9",
   "metadata": {},
   "outputs": [
    {
     "name": "stderr",
     "output_type": "stream",
     "text": [
      "WARNING:__main__:And this, too\n",
      "ERROR:__main__:And non-ASCII stuff, too, like Øresund and Malmö\n"
     ]
    }
   ],
   "source": [
    "import logging\n",
    "logger = logging.getLogger(__name__)\n",
    "logging.basicConfig(filename='example.log', encoding='utf-8', level=logging.DEBUG)\n",
    "logger.debug('This message should go to the log file')\n",
    "logger.info('So should this')\n",
    "logger.warning('And this, too')\n",
    "logger.error('And non-ASCII stuff, too, like Øresund and Malmö')"
   ]
  },
  {
   "cell_type": "code",
   "execution_count": null,
   "id": "8e4b246d-1ebf-4d59-a74c-410fe3da0dcc",
   "metadata": {},
   "outputs": [],
   "source": [
    "DEBUG:__main__:This message should go to the log file\n",
    "INFO:__main__:So should this\n",
    "WARNING:__main__:And this, too\n",
    "ERROR:__main__:And non-ASCII stuff, too, like Øresund and Malmö"
   ]
  },
  {
   "cell_type": "code",
   "execution_count": null,
   "id": "a06bdf29-9faf-4f6e-b45b-9142adcdd733",
   "metadata": {},
   "outputs": [],
   "source": [
    "DEBUG:__main__:This message should go to the log file\n",
    "INFO:__main__:So should this\n",
    "WARNING:__main__:And this, too\n",
    "ERROR:__main__:And non-ASCII stuff, too, like Øresund and Malmö"
   ]
  },
  {
   "cell_type": "code",
   "execution_count": null,
   "id": "a2351bdb-7fa3-4768-8ac4-8615912474eb",
   "metadata": {},
   "outputs": [],
   "source": [
    "import logging\n",
    "logging.warning('%s before you %s', 'Look', 'leap!')"
   ]
  },
  {
   "cell_type": "code",
   "execution_count": null,
   "id": "d7c2d6fc-c4f5-429a-be46-1572ade249ee",
   "metadata": {},
   "outputs": [],
   "source": [
    "import logging\n",
    "logging.basicConfig(format='%(levelname)s:%(message)s', level=logging.DEBUG)\n",
    "logging.debug('This message should appear on the console')\n",
    "logging.info('So should this')\n",
    "logging.warning('And this, too')"
   ]
  },
  {
   "cell_type": "code",
   "execution_count": null,
   "id": "866759bb-a4d4-418a-af7c-195a10bb3ec0",
   "metadata": {},
   "outputs": [],
   "source": [
    "import logging\n",
    "logging.warning('%s before you %s', 'Look', 'leap!')"
   ]
  },
  {
   "cell_type": "code",
   "execution_count": null,
   "id": "89bf06b0-7b9c-41dc-ae5b-4bde0dc00c13",
   "metadata": {},
   "outputs": [],
   "source": [
    "import logging\n",
    "logging.basicConfig(format='%(asctime)s %(message)s')\n",
    "logging.warning('is when this event was logged.')"
   ]
  },
  {
   "cell_type": "code",
   "execution_count": null,
   "id": "2f17cf38-cbd6-4e0a-96f3-b07ae2dd3bae",
   "metadata": {},
   "outputs": [],
   "source": [
    "import logging\n",
    "logging.basicConfig(format='%(asctime)s %(message)s', datefmt='%m/%d/%Y %I:%M:%S %p')\n",
    "logging.warning('is when this event was logged.')"
   ]
  }
 ],
 "metadata": {
  "kernelspec": {
   "display_name": "Python 3 (ipykernel)",
   "language": "python",
   "name": "python3"
  },
  "language_info": {
   "codemirror_mode": {
    "name": "ipython",
    "version": 3
   },
   "file_extension": ".py",
   "mimetype": "text/x-python",
   "name": "python",
   "nbconvert_exporter": "python",
   "pygments_lexer": "ipython3",
   "version": "3.12.1"
  }
 },
 "nbformat": 4,
 "nbformat_minor": 5
}
